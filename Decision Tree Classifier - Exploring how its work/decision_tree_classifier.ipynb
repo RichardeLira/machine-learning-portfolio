{
 "cells": [
  {
   "cell_type": "markdown",
   "metadata": {},
   "source": [
    "## Decision Tree Classifier with Python - Inside "
   ]
  },
  {
   "cell_type": "markdown",
   "metadata": {},
   "source": [
    "##### Hello, we will build a Decision Tree Classifier to predict car safety. We will create two models, one with a criterion gini index and the other with a criterion entropy. The main code will be written in Python and will use the Scikit-Learn library."
   ]
  },
  {
   "cell_type": "markdown",
   "metadata": {},
   "source": [
    "<img src= \"https://img.freepik.com/fotos-premium/uma-arvore-com-muitos-galhos-e-galhos-que-tem-o-nome-nele_425154-333.jpg?w=1380\">"
   ]
  },
  {
   "cell_type": "markdown",
   "metadata": {},
   "source": [
    "## 1. Introduction to Decision Tree algorithm "
   ]
  },
  {
   "cell_type": "markdown",
   "metadata": {},
   "source": [
    "- A Decision Tree is a powerful machine learning algorithm used for both classification and regression tasks. It's a supervised learning algorithm that is particularly useful for making decisions or predictions by visually representing a series of choices and their potential consequences. Decision Trees are widely used in various fields, including data mining, finance, healthcare, and more.\n",
    "\n",
    "- A decision tree is a structure that includes a root node, branches, and leaf nodes. Each internal node denotes a test on an attribute, each branch denotes the outcome of a test, and each leaf node holds a class label. The topmost node in the tree is the root node.\n",
    "\n",
    "- **Nodes and Leaves**:\n",
    "    - **Root Node**: The initial node that represents the entire dataset. It is split into child nodes based on a chosen feature.\n",
    "    - **Internal Nodes**: Intermediate nodes that represent decisions based on specific features.\n",
    "    - **Leaf Nodes (Terminal Nodes)**: The final nodes that represent the predicted outcome or class label.\n"
   ]
  },
  {
   "cell_type": "code",
   "execution_count": null,
   "metadata": {},
   "outputs": [],
   "source": []
  }
 ],
 "metadata": {
  "language_info": {
   "name": "python"
  }
 },
 "nbformat": 4,
 "nbformat_minor": 2
}
